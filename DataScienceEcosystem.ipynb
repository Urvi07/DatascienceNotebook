{
 "cells": [
  {
   "cell_type": "markdown",
   "id": "abfe92bd-cef1-4c73-8bb7-abde378a6c64",
   "metadata": {},
   "source": [
    "<h1>#Data Science Tools and Ecosystem</h1>"
   ]
  },
  {
   "cell_type": "markdown",
   "id": "1fc7a68a-e251-4c05-869f-985227459200",
   "metadata": {},
   "source": [
    "In this notebook, Data Science Tools and Ecosystem are summarized."
   ]
  },
  {
   "cell_type": "markdown",
   "id": "b598cb00-dcfd-4f09-8214-a86ce8337f38",
   "metadata": {},
   "source": [
    "Some of the popular languages that Data Scientists use are:\n",
    "Python\n",
    "R\n",
    "SQL\n"
   ]
  },
  {
   "cell_type": "markdown",
   "id": "ade3d6a2-1199-49b3-8336-625e03518e63",
   "metadata": {},
   "source": [
    "Some of the commonly used libraries used by Data Scientists include\n",
    "libraries \n",
    "- Pandas\r\n",
    "- NumPy\r\n",
    "- Matplotlib\r\n"
   ]
  },
  {
   "cell_type": "markdown",
   "id": "1d4db896-2f93-4321-950c-f69b0a56d503",
   "metadata": {},
   "source": [
    "Data Science Tools       || Jupyt- | Interactive Notebook   \n",
    "| scikit-le- | Machine Learning Liesrary \r\n",
    "| Tensor-  | Deep Learning Framewor   |\r\n"
   ]
  },
  {
   "cell_type": "markdown",
   "id": "2d3a6606-6554-4bc7-9cd3-a869f1152fd2",
   "metadata": {},
   "source": [
    "<h3>Below are a few examples of evaluating arithmetic expressions in Python</h3>\n",
    "\r\n",
    "In this section, we will explore various arithmetic expressions and operations using Python. Arithmetic expressions are fundamental in mathematics and programming, and they involve operations like addition, subtraction, multiplication, division, and more. We will use Python code to demonstrate these operations and provide examples to help you understand how they work.\r\n",
    "\r\n",
    "Let's get started by exploring some basic arithmetic expressions and gradually delve into more complex ones. Feel free to follow along and execute the code cells to see the results in action.\r\n"
   ]
  },
  {
   "cell_type": "code",
   "execution_count": 4,
   "id": "4e83db63-7737-4f94-ad2d-67e1849cb82c",
   "metadata": {},
   "outputs": [
    {
     "data": {
      "text/plain": [
       "17"
      ]
     },
     "execution_count": 4,
     "metadata": {},
     "output_type": "execute_result"
    }
   ],
   "source": [
    "(3*4)+5\n",
    "#this a simple arithmetic expression to mutiply then add integer"
   ]
  },
  {
   "cell_type": "code",
   "execution_count": 6,
   "id": "a9f2b5db-41f8-404b-8b8a-c2358e9e3c39",
   "metadata": {},
   "outputs": [
    {
     "name": "stdout",
     "output_type": "stream",
     "text": [
      "200 minutes is equal to 3.3333333333333335 hours\n"
     ]
    }
   ],
   "source": [
    " #This will convert 200 minutes to hours by diving by 60\n",
    "minutes = 200 \n",
    "hours = minutes / 60\n",
    "print(f\"{minutes} minutes is equal to {hours} hours\")\n"
   ]
  },
  {
   "cell_type": "markdown",
   "id": "67dccbe4-2f92-4393-bf0a-0ef1074d06fe",
   "metadata": {},
   "source": [
    "Objectives of this notebook\n",
    "\r\n",
    "In this notebook, we aim to accomplish the following objectives1.\n",
    "1. Explore fundamental concepts of data science.\r\n",
    "2. Demonstrate basic arithmetic operations in Python.\r\n",
    "3. Convert units (e.g., minutes to hours) using Python.\r\n",
    "4. Introduce key data science languages and libraries.\r\n",
    "5. Create and display tables in Markdown.\r\n",
    "6. Share and collaborate on data science projects through GitHub.\r\n",
    "7. Provide an introduction and author's information for context.\r\n",
    "8. Document code and explanations ef objectives.\r\n"
   ]
  },
  {
   "cell_type": "markdown",
   "id": "2e771b36-f2a2-44cf-8d96-2063ec67cc7b",
   "metadata": {},
   "source": [
    "Author: Urvi Upadhyay\r\n"
   ]
  }
 ],
 "metadata": {
  "kernelspec": {
   "display_name": "Python 3 (ipykernel)",
   "language": "python",
   "name": "python3"
  },
  "language_info": {
   "codemirror_mode": {
    "name": "ipython",
    "version": 3
   },
   "file_extension": ".py",
   "mimetype": "text/x-python",
   "name": "python",
   "nbconvert_exporter": "python",
   "pygments_lexer": "ipython3",
   "version": "3.11.4"
  }
 },
 "nbformat": 4,
 "nbformat_minor": 5
}
